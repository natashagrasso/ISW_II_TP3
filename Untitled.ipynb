{
 "cells": [
  {
   "cell_type": "code",
   "execution_count": 7,
   "id": "7243855a",
   "metadata": {},
   "outputs": [
    {
     "name": "stdout",
     "output_type": "stream",
     "text": [
      "es el primer bloque del proyecto \n"
     ]
    }
   ],
   "source": [
    "print ('es el primer bloque del proyecto ')\n",
    "pi= 3.14\n",
    "\n",
    "\n"
   ]
  },
  {
   "cell_type": "code",
   "execution_count": 8,
   "id": "5ca59dce",
   "metadata": {},
   "outputs": [
    {
     "name": "stdout",
     "output_type": "stream",
     "text": [
      "este es el segundo bloque del proyecto\n",
      "3.14\n"
     ]
    }
   ],
   "source": [
    "print ('este es el segundo bloque del proyecto')\n",
    "print (pi)"
   ]
  },
  {
   "cell_type": "markdown",
   "id": "660658c1",
   "metadata": {},
   "source": [
    "\n",
    "# Universidad Autónoma de Entre Ríos\n",
    "## Facultad de Ciencia y Tecnología\n",
    "### Sede Concepción del Uruguay\n",
    "Licenciatura en Sistema de Información:\n",
    "- Primer año\n",
    "- Segundo año\n",
    "- **Tercer** año\n",
    "- Cuarto año\n",
    "- Quinto año\n"
   ]
  },
  {
   "cell_type": "markdown",
   "id": "498fd938",
   "metadata": {},
   "source": [
    "![Imagen](https://blog.educacionit.com/wp-content/uploads/2020/02/paython-e1566991357500.png)"
   ]
  },
  {
   "cell_type": "code",
   "execution_count": null,
   "id": "6d499c36",
   "metadata": {},
   "outputs": [],
   "source": []
  }
 ],
 "metadata": {
  "kernelspec": {
   "display_name": "Python 3 (ipykernel)",
   "language": "python",
   "name": "python3"
  },
  "language_info": {
   "codemirror_mode": {
    "name": "ipython",
    "version": 3
   },
   "file_extension": ".py",
   "mimetype": "text/x-python",
   "name": "python",
   "nbconvert_exporter": "python",
   "pygments_lexer": "ipython3",
   "version": "3.10.4"
  }
 },
 "nbformat": 4,
 "nbformat_minor": 5
}
